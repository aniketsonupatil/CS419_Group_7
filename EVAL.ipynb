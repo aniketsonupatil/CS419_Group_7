{
 "cells": [
  {
   "cell_type": "code",
   "execution_count": null,
   "metadata": {},
   "outputs": [],
   "source": [
    "import numpy as np\n",
    "import pandas as pd\n",
    "import json\n",
    "import os\n",
    "import re\n",
    "import spacy\n",
    "nlp = spacy.load('en_core_web_sm')\n",
    "import os\n",
    "import pickle"
   ]
  },
  {
   "cell_type": "code",
   "execution_count": null,
   "metadata": {},
   "outputs": [],
   "source": [
    "import tensorflow as tf\n",
    "from tensorflow.keras.layers import Input, Embedding, Bidirectional, LSTM, Concatenate, Dense, Dropout, MultiHeadAttention, Attention\n",
    "from tensorflow.keras.models import Sequential\n",
    "from tensorflow.keras.optimizers import Adam\n",
    "from tensorflow.keras.models import Model\n",
    "from tensorflow.keras.callbacks import ModelCheckpoint"
   ]
  },
  {
   "cell_type": "code",
   "execution_count": null,
   "metadata": {},
   "outputs": [],
   "source": [
    "word_embeddings = np.load(( \"./weights_matrix_100D.npy\"), allow_pickle=True)"
   ]
  },
  {
   "cell_type": "code",
   "execution_count": null,
   "metadata": {},
   "outputs": [],
   "source": [
    "with open('traindata.pkl', 'rb') as handle:\n",
    "    train_df = pickle.load(handle)"
   ]
  },
  {
   "cell_type": "code",
   "execution_count": null,
   "metadata": {},
   "outputs": [],
   "source": [
    "with open('./data/word_vocab.pkl', \"rb\") as wv, \\\n",
    "      open('./data/word2index.pkl', \"rb\") as wi, \\\n",
    "         open('./data/index2word.pkl', \"rb\") as iw:\n",
    "         word_vocab = pickle.load(wv)\n",
    "         word2idx = pickle.load(wi)\n",
    "         idx2word = pickle.load(iw)"
   ]
  },
  {
   "cell_type": "code",
   "execution_count": null,
   "metadata": {},
   "outputs": [],
   "source": [
    "model = tf.keras.models.load_model('final_model.h5')"
   ]
  },
  {
   "cell_type": "code",
   "execution_count": null,
   "metadata": {},
   "outputs": [],
   "source": [
    "max_contex_length = 200\n",
    "max_question_length = 30\n",
    "max_sequence_length =256\n",
    "batch_size = 16\n",
    "epochs = 5\n",
    "learning_rate = 1e-3"
   ]
  },
  {
   "cell_type": "code",
   "execution_count": null,
   "metadata": {},
   "outputs": [],
   "source": [
    "def context_to_ids(text, word2idx = word2idx):\n",
    "    #converts words to numerical index in the text\n",
    "    context_tokens = [w.text for w in nlp(text, disable=['parser','tagger','ner'])]\n",
    "    #context_ids = [word2idx[word] for word in context_tokens]\n",
    "    context_ids = []\n",
    "    for word in context_tokens:\n",
    "      if word in word_vocab:\n",
    "        context_ids.append(word2idx[word])\n",
    "      else:\n",
    "        context_ids.append(0)\n",
    "    assert len(context_ids) == len(context_tokens)\n",
    "    return context_ids"
   ]
  },
  {
   "cell_type": "code",
   "execution_count": null,
   "metadata": {},
   "outputs": [],
   "source": [
    "def question_to_ids(text, word2idx= word2idx):\n",
    "    question_tokens = [w.text for w in nlp(text, disable=['parser','tagger','ner'])]\n",
    "    #question_ids = [word2idx[word] for word in question_tokens]\n",
    "    question_ids = []\n",
    "    for word in question_tokens:\n",
    "      if word in word_vocab:\n",
    "        question_ids.append(word2idx[word])\n",
    "      else:\n",
    "        question_ids.append(0)\n",
    "    assert len(question_ids) == len(question_tokens)\n",
    "    return question_ids"
   ]
  },
  {
   "cell_type": "code",
   "execution_count": null,
   "metadata": {},
   "outputs": [],
   "source": [
    "def preprocess(text):\n",
    "  text= text.lower()\n",
    "  # text = text.replace('(&#\\w+\\s*)',\"\")     # remove html noise e.g -> &#1334\n",
    "  # text=text.replace('https?://[A-Za-z0-9./]+','') # remove URLs\n",
    "  # text=text.replace('[^\\w\\s]|^\\s\\d+\\s|\\s\\d+|\\d+|\\s\\d+$','') # remove punctuation except '.'\n",
    "  # text=text.replace('\\n',' ') # remove '\\n'\n",
    "  text = re.sub('[^A-Za-z0-9]+', ' ', text)\n",
    "  return text"
   ]
  },
  {
   "cell_type": "code",
   "execution_count": null,
   "metadata": {},
   "outputs": [],
   "source": [
    "def live_eval():\n",
    "  context = input(\"ENTER CONTEXT\")\n",
    "  ques = input(\"ENTER QUESTION\")\n",
    "  context = preprocess(context)\n",
    "  ques=preprocess(ques)\n",
    "  context_ids=context_to_ids(context)\n",
    "  question_ids=question_to_ids(ques)\n",
    "  context_ids_ = tf.keras.preprocessing.sequence.pad_sequences(question_ids, maxlen=max_contex_length,padding='post')\n",
    "  context_ids_ = context_ids_.reshape(1, len(context_ids))\n",
    "\n",
    "  question_ids_ = tf.keras.preprocessing.sequence.pad_sequences(question_ids, maxlen=max_question_length,padding='post')\n",
    "  question_ids_ = question_ids_.reshape(1, len(question_ids))\n",
    "  start_idx, end_idx = model(context_ids_, question_ids_) \n",
    "\n",
    "  print(start_idx, end_idx)\n",
    "  if start_idx<=end_idx:\n",
    "    for i in context_ids[start_idx:end_idx+1]:\n",
    "      print(idx2word[i])\n",
    "    scontext=context.split()\n",
    "    print(scontext[start_idx:end_idx+1])\n",
    "  else:\n",
    "    print('Cannot Answer')\n",
    "  return context, context_ids, start_idx, end_idx"
   ]
  },
  {
   "cell_type": "code",
   "execution_count": null,
   "metadata": {},
   "outputs": [],
   "source": [
    "ctx1 ='Construction is the process of constructing a building or infrastructure. Construction differs from manufacturing in that manufacturing typically involves mass production of similar items without a designated purchaser, while construction typically takes place on location for a known client. Construction as an industry comprises six to nine percent of the gross domestic product of developed countries. Construction starts with planning,[citation needed] design, and financing and continues until the project is built and ready for use.'\n",
    "c1_q2='What is the process of constructing a building or infrastructure'\n",
    "c1_q1='What percentile of gross domestic product is construction comprised of'"
   ]
  },
  {
   "cell_type": "code",
   "execution_count": null,
   "metadata": {},
   "outputs": [],
   "source": []
  }
 ],
 "metadata": {
  "language_info": {
   "name": "python"
  },
  "orig_nbformat": 4
 },
 "nbformat": 4,
 "nbformat_minor": 2
}
